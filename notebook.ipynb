{
 "cells": [
  {
   "cell_type": "markdown",
   "metadata": {},
   "source": [
    "# Практическая работа 6"
   ]
  },
  {
   "cell_type": "markdown",
   "metadata": {},
   "source": [
    "## Задание 1\n",
    "\n",
    "Загрузить данные из файла `ECDCCases.csv`."
   ]
  },
  {
   "cell_type": "code",
   "execution_count": 2,
   "metadata": {},
   "outputs": [
    {
     "data": {
      "text/plain": "          dateRep  day  month  year  cases  deaths countriesAndTerritories  \\\n0      14/12/2020   14     12  2020    746       6             Afghanistan   \n1      13/12/2020   13     12  2020    298       9             Afghanistan   \n2      12/12/2020   12     12  2020    113      11             Afghanistan   \n3      12/12/2020   12     12  2020    113      11             Afghanistan   \n4      11/12/2020   11     12  2020     63      10             Afghanistan   \n...           ...  ...    ...   ...    ...     ...                     ...   \n61899  25/03/2020   25      3  2020      0       0                Zimbabwe   \n61900  24/03/2020   24      3  2020      0       1                Zimbabwe   \n61901  23/03/2020   23      3  2020      0       0                Zimbabwe   \n61902  22/03/2020   22      3  2020      1       0                Zimbabwe   \n61903  21/03/2020   21      3  2020      1       0                Zimbabwe   \n\n      geoId countryterritoryCode  popData2019 continentExp  \\\n0        AF                  AFG   38041757.0         Asia   \n1        AF                  AFG   38041757.0         Asia   \n2        AF                  AFG   38041757.0         Asia   \n3        AF                  AFG   38041757.0         Asia   \n4        AF                  AFG   38041757.0         Asia   \n...     ...                  ...          ...          ...   \n61899    ZW                  ZWE   14645473.0       Africa   \n61900    ZW                  ZWE   14645473.0       Africa   \n61901    ZW                  ZWE   14645473.0       Africa   \n61902    ZW                  ZWE   14645473.0       Africa   \n61903    ZW                  ZWE   14645473.0       Africa   \n\n       Cumulative_number_for_14_days_of_COVID-19_cases_per_100000  \n0                                               9.013779           \n1                                               7.052776           \n2                                               6.868768           \n3                                               6.868768           \n4                                               7.134266           \n...                                                  ...           \n61899                                                NaN           \n61900                                                NaN           \n61901                                                NaN           \n61902                                                NaN           \n61903                                                NaN           \n\n[61904 rows x 12 columns]",
      "text/html": "<div>\n<style scoped>\n    .dataframe tbody tr th:only-of-type {\n        vertical-align: middle;\n    }\n\n    .dataframe tbody tr th {\n        vertical-align: top;\n    }\n\n    .dataframe thead th {\n        text-align: right;\n    }\n</style>\n<table border=\"1\" class=\"dataframe\">\n  <thead>\n    <tr style=\"text-align: right;\">\n      <th></th>\n      <th>dateRep</th>\n      <th>day</th>\n      <th>month</th>\n      <th>year</th>\n      <th>cases</th>\n      <th>deaths</th>\n      <th>countriesAndTerritories</th>\n      <th>geoId</th>\n      <th>countryterritoryCode</th>\n      <th>popData2019</th>\n      <th>continentExp</th>\n      <th>Cumulative_number_for_14_days_of_COVID-19_cases_per_100000</th>\n    </tr>\n  </thead>\n  <tbody>\n    <tr>\n      <th>0</th>\n      <td>14/12/2020</td>\n      <td>14</td>\n      <td>12</td>\n      <td>2020</td>\n      <td>746</td>\n      <td>6</td>\n      <td>Afghanistan</td>\n      <td>AF</td>\n      <td>AFG</td>\n      <td>38041757.0</td>\n      <td>Asia</td>\n      <td>9.013779</td>\n    </tr>\n    <tr>\n      <th>1</th>\n      <td>13/12/2020</td>\n      <td>13</td>\n      <td>12</td>\n      <td>2020</td>\n      <td>298</td>\n      <td>9</td>\n      <td>Afghanistan</td>\n      <td>AF</td>\n      <td>AFG</td>\n      <td>38041757.0</td>\n      <td>Asia</td>\n      <td>7.052776</td>\n    </tr>\n    <tr>\n      <th>2</th>\n      <td>12/12/2020</td>\n      <td>12</td>\n      <td>12</td>\n      <td>2020</td>\n      <td>113</td>\n      <td>11</td>\n      <td>Afghanistan</td>\n      <td>AF</td>\n      <td>AFG</td>\n      <td>38041757.0</td>\n      <td>Asia</td>\n      <td>6.868768</td>\n    </tr>\n    <tr>\n      <th>3</th>\n      <td>12/12/2020</td>\n      <td>12</td>\n      <td>12</td>\n      <td>2020</td>\n      <td>113</td>\n      <td>11</td>\n      <td>Afghanistan</td>\n      <td>AF</td>\n      <td>AFG</td>\n      <td>38041757.0</td>\n      <td>Asia</td>\n      <td>6.868768</td>\n    </tr>\n    <tr>\n      <th>4</th>\n      <td>11/12/2020</td>\n      <td>11</td>\n      <td>12</td>\n      <td>2020</td>\n      <td>63</td>\n      <td>10</td>\n      <td>Afghanistan</td>\n      <td>AF</td>\n      <td>AFG</td>\n      <td>38041757.0</td>\n      <td>Asia</td>\n      <td>7.134266</td>\n    </tr>\n    <tr>\n      <th>...</th>\n      <td>...</td>\n      <td>...</td>\n      <td>...</td>\n      <td>...</td>\n      <td>...</td>\n      <td>...</td>\n      <td>...</td>\n      <td>...</td>\n      <td>...</td>\n      <td>...</td>\n      <td>...</td>\n      <td>...</td>\n    </tr>\n    <tr>\n      <th>61899</th>\n      <td>25/03/2020</td>\n      <td>25</td>\n      <td>3</td>\n      <td>2020</td>\n      <td>0</td>\n      <td>0</td>\n      <td>Zimbabwe</td>\n      <td>ZW</td>\n      <td>ZWE</td>\n      <td>14645473.0</td>\n      <td>Africa</td>\n      <td>NaN</td>\n    </tr>\n    <tr>\n      <th>61900</th>\n      <td>24/03/2020</td>\n      <td>24</td>\n      <td>3</td>\n      <td>2020</td>\n      <td>0</td>\n      <td>1</td>\n      <td>Zimbabwe</td>\n      <td>ZW</td>\n      <td>ZWE</td>\n      <td>14645473.0</td>\n      <td>Africa</td>\n      <td>NaN</td>\n    </tr>\n    <tr>\n      <th>61901</th>\n      <td>23/03/2020</td>\n      <td>23</td>\n      <td>3</td>\n      <td>2020</td>\n      <td>0</td>\n      <td>0</td>\n      <td>Zimbabwe</td>\n      <td>ZW</td>\n      <td>ZWE</td>\n      <td>14645473.0</td>\n      <td>Africa</td>\n      <td>NaN</td>\n    </tr>\n    <tr>\n      <th>61902</th>\n      <td>22/03/2020</td>\n      <td>22</td>\n      <td>3</td>\n      <td>2020</td>\n      <td>1</td>\n      <td>0</td>\n      <td>Zimbabwe</td>\n      <td>ZW</td>\n      <td>ZWE</td>\n      <td>14645473.0</td>\n      <td>Africa</td>\n      <td>NaN</td>\n    </tr>\n    <tr>\n      <th>61903</th>\n      <td>21/03/2020</td>\n      <td>21</td>\n      <td>3</td>\n      <td>2020</td>\n      <td>1</td>\n      <td>0</td>\n      <td>Zimbabwe</td>\n      <td>ZW</td>\n      <td>ZWE</td>\n      <td>14645473.0</td>\n      <td>Africa</td>\n      <td>NaN</td>\n    </tr>\n  </tbody>\n</table>\n<p>61904 rows × 12 columns</p>\n</div>"
     },
     "execution_count": 2,
     "metadata": {},
     "output_type": "execute_result"
    }
   ],
   "source": [
    "import pandas as pd\n",
    "\n",
    "data: pd.DataFrame = pd.read_csv('ECDCCases.csv')\n",
    "data"
   ]
  },
  {
   "cell_type": "markdown",
   "metadata": {},
   "source": [
    "## Задание 2\n",
    "\n",
    "Проверить в данных наличие пропущенных значений.\n",
    "\n",
    "Вывести количество пропущенных значений в процентах.\n",
    "\n",
    "Удалить два признака, в которых больше всех пропущенных значений.\n",
    "Для оставшихся признаков обработать пропуски: для категориального признака использовать заполнение значением по умолчанию (например, \"other\"), для числового признака использовать заполнение медианным значением.\n",
    "\n",
    "Показать, что пропусков больше в данных нет."
   ]
  },
  {
   "cell_type": "code",
   "execution_count": 3,
   "metadata": {},
   "outputs": [],
   "source": [
    "import numpy as np\n",
    "\n",
    "def print_missing(data: pd.DataFrame):\n",
    "    for column in data.columns:\n",
    "        missing = np.mean(data[column].isna() * 100)\n",
    "        missing = round(missing, 3)\n",
    "        print(f'{column}: {missing}%')"
   ]
  },
  {
   "cell_type": "code",
   "execution_count": 4,
   "metadata": {},
   "outputs": [
    {
     "name": "stdout",
     "output_type": "stream",
     "text": [
      "dateRep: 0.0%\n",
      "day: 0.0%\n",
      "month: 0.0%\n",
      "year: 0.0%\n",
      "cases: 0.0%\n",
      "deaths: 0.0%\n",
      "countriesAndTerritories: 0.0%\n",
      "geoId: 0.444%\n",
      "countryterritoryCode: 0.199%\n",
      "popData2019: 0.199%\n",
      "continentExp: 0.0%\n",
      "Cumulative_number_for_14_days_of_COVID-19_cases_per_100000: 4.651%\n"
     ]
    }
   ],
   "source": [
    "print_missing(data)"
   ]
  },
  {
   "cell_type": "markdown",
   "metadata": {},
   "source": [
    "Больше всех пропущенных значений находится в признаках `Cumulative_number_for_14_days_of_COVID-19_cases_per_100000` и `geoId`.\n",
    "Удалим их из датасета:"
   ]
  },
  {
   "cell_type": "code",
   "execution_count": 5,
   "metadata": {},
   "outputs": [
    {
     "data": {
      "text/plain": "          dateRep  day  month  year  cases  deaths countriesAndTerritories  \\\n0      14/12/2020   14     12  2020    746       6             Afghanistan   \n1      13/12/2020   13     12  2020    298       9             Afghanistan   \n2      12/12/2020   12     12  2020    113      11             Afghanistan   \n3      12/12/2020   12     12  2020    113      11             Afghanistan   \n4      11/12/2020   11     12  2020     63      10             Afghanistan   \n...           ...  ...    ...   ...    ...     ...                     ...   \n61899  25/03/2020   25      3  2020      0       0                Zimbabwe   \n61900  24/03/2020   24      3  2020      0       1                Zimbabwe   \n61901  23/03/2020   23      3  2020      0       0                Zimbabwe   \n61902  22/03/2020   22      3  2020      1       0                Zimbabwe   \n61903  21/03/2020   21      3  2020      1       0                Zimbabwe   \n\n      countryterritoryCode  popData2019 continentExp  \n0                      AFG   38041757.0         Asia  \n1                      AFG   38041757.0         Asia  \n2                      AFG   38041757.0         Asia  \n3                      AFG   38041757.0         Asia  \n4                      AFG   38041757.0         Asia  \n...                    ...          ...          ...  \n61899                  ZWE   14645473.0       Africa  \n61900                  ZWE   14645473.0       Africa  \n61901                  ZWE   14645473.0       Africa  \n61902                  ZWE   14645473.0       Africa  \n61903                  ZWE   14645473.0       Africa  \n\n[61904 rows x 10 columns]",
      "text/html": "<div>\n<style scoped>\n    .dataframe tbody tr th:only-of-type {\n        vertical-align: middle;\n    }\n\n    .dataframe tbody tr th {\n        vertical-align: top;\n    }\n\n    .dataframe thead th {\n        text-align: right;\n    }\n</style>\n<table border=\"1\" class=\"dataframe\">\n  <thead>\n    <tr style=\"text-align: right;\">\n      <th></th>\n      <th>dateRep</th>\n      <th>day</th>\n      <th>month</th>\n      <th>year</th>\n      <th>cases</th>\n      <th>deaths</th>\n      <th>countriesAndTerritories</th>\n      <th>countryterritoryCode</th>\n      <th>popData2019</th>\n      <th>continentExp</th>\n    </tr>\n  </thead>\n  <tbody>\n    <tr>\n      <th>0</th>\n      <td>14/12/2020</td>\n      <td>14</td>\n      <td>12</td>\n      <td>2020</td>\n      <td>746</td>\n      <td>6</td>\n      <td>Afghanistan</td>\n      <td>AFG</td>\n      <td>38041757.0</td>\n      <td>Asia</td>\n    </tr>\n    <tr>\n      <th>1</th>\n      <td>13/12/2020</td>\n      <td>13</td>\n      <td>12</td>\n      <td>2020</td>\n      <td>298</td>\n      <td>9</td>\n      <td>Afghanistan</td>\n      <td>AFG</td>\n      <td>38041757.0</td>\n      <td>Asia</td>\n    </tr>\n    <tr>\n      <th>2</th>\n      <td>12/12/2020</td>\n      <td>12</td>\n      <td>12</td>\n      <td>2020</td>\n      <td>113</td>\n      <td>11</td>\n      <td>Afghanistan</td>\n      <td>AFG</td>\n      <td>38041757.0</td>\n      <td>Asia</td>\n    </tr>\n    <tr>\n      <th>3</th>\n      <td>12/12/2020</td>\n      <td>12</td>\n      <td>12</td>\n      <td>2020</td>\n      <td>113</td>\n      <td>11</td>\n      <td>Afghanistan</td>\n      <td>AFG</td>\n      <td>38041757.0</td>\n      <td>Asia</td>\n    </tr>\n    <tr>\n      <th>4</th>\n      <td>11/12/2020</td>\n      <td>11</td>\n      <td>12</td>\n      <td>2020</td>\n      <td>63</td>\n      <td>10</td>\n      <td>Afghanistan</td>\n      <td>AFG</td>\n      <td>38041757.0</td>\n      <td>Asia</td>\n    </tr>\n    <tr>\n      <th>...</th>\n      <td>...</td>\n      <td>...</td>\n      <td>...</td>\n      <td>...</td>\n      <td>...</td>\n      <td>...</td>\n      <td>...</td>\n      <td>...</td>\n      <td>...</td>\n      <td>...</td>\n    </tr>\n    <tr>\n      <th>61899</th>\n      <td>25/03/2020</td>\n      <td>25</td>\n      <td>3</td>\n      <td>2020</td>\n      <td>0</td>\n      <td>0</td>\n      <td>Zimbabwe</td>\n      <td>ZWE</td>\n      <td>14645473.0</td>\n      <td>Africa</td>\n    </tr>\n    <tr>\n      <th>61900</th>\n      <td>24/03/2020</td>\n      <td>24</td>\n      <td>3</td>\n      <td>2020</td>\n      <td>0</td>\n      <td>1</td>\n      <td>Zimbabwe</td>\n      <td>ZWE</td>\n      <td>14645473.0</td>\n      <td>Africa</td>\n    </tr>\n    <tr>\n      <th>61901</th>\n      <td>23/03/2020</td>\n      <td>23</td>\n      <td>3</td>\n      <td>2020</td>\n      <td>0</td>\n      <td>0</td>\n      <td>Zimbabwe</td>\n      <td>ZWE</td>\n      <td>14645473.0</td>\n      <td>Africa</td>\n    </tr>\n    <tr>\n      <th>61902</th>\n      <td>22/03/2020</td>\n      <td>22</td>\n      <td>3</td>\n      <td>2020</td>\n      <td>1</td>\n      <td>0</td>\n      <td>Zimbabwe</td>\n      <td>ZWE</td>\n      <td>14645473.0</td>\n      <td>Africa</td>\n    </tr>\n    <tr>\n      <th>61903</th>\n      <td>21/03/2020</td>\n      <td>21</td>\n      <td>3</td>\n      <td>2020</td>\n      <td>1</td>\n      <td>0</td>\n      <td>Zimbabwe</td>\n      <td>ZWE</td>\n      <td>14645473.0</td>\n      <td>Africa</td>\n    </tr>\n  </tbody>\n</table>\n<p>61904 rows × 10 columns</p>\n</div>"
     },
     "execution_count": 5,
     "metadata": {},
     "output_type": "execute_result"
    }
   ],
   "source": [
    "data.drop(\n",
    "    columns=['Cumulative_number_for_14_days_of_COVID-19_cases_per_100000', 'geoId'],\n",
    "    inplace=True,\n",
    ")\n",
    "data"
   ]
  },
  {
   "cell_type": "markdown",
   "metadata": {},
   "source": [
    "Для категориального признака заполним пропуски значением по умолчанию (например, значением \"other\"):"
   ]
  },
  {
   "cell_type": "code",
   "execution_count": 6,
   "metadata": {},
   "outputs": [],
   "source": [
    "data['countryterritoryCode'].fillna('other', inplace=True)"
   ]
  },
  {
   "cell_type": "markdown",
   "metadata": {},
   "source": [
    "Для числового признака заполним пропуски медианным значением:"
   ]
  },
  {
   "cell_type": "code",
   "execution_count": 7,
   "metadata": {},
   "outputs": [],
   "source": [
    "median_pop = data['popData2019'].median()\n",
    "data['popData2019'].fillna(median_pop, inplace=True)"
   ]
  },
  {
   "cell_type": "markdown",
   "metadata": {},
   "source": [
    "Покажем, что пропусков данных больше нет:"
   ]
  },
  {
   "cell_type": "code",
   "execution_count": 8,
   "metadata": {},
   "outputs": [
    {
     "name": "stdout",
     "output_type": "stream",
     "text": [
      "dateRep: 0.0%\n",
      "day: 0.0%\n",
      "month: 0.0%\n",
      "year: 0.0%\n",
      "cases: 0.0%\n",
      "deaths: 0.0%\n",
      "countriesAndTerritories: 0.0%\n",
      "countryterritoryCode: 0.0%\n",
      "popData2019: 0.0%\n",
      "continentExp: 0.0%\n"
     ]
    }
   ],
   "source": [
    "print_missing(data)"
   ]
  },
  {
   "cell_type": "markdown",
   "metadata": {},
   "source": [
    "## Задание 3\n",
    "\n",
    "Посмотреть статистику по данным, используя `describe()`.\n",
    "\n",
    "Сделать выводы о том, какие признаки содержат выбросы.\n",
    "\n",
    "Посмотреть, для каких стран количество смертей в день превысило 3000 и сколько таких дней было."
   ]
  },
  {
   "cell_type": "code",
   "execution_count": 9,
   "metadata": {},
   "outputs": [
    {
     "data": {
      "text/plain": "                day         month          year          cases        deaths  \\\ncount  61904.000000  61904.000000  61904.000000   61904.000000  61904.000000   \nmean      15.629232      7.067104   2019.998918    1155.079026     26.053987   \nstd        8.841624      2.954816      0.032881    6779.010824    131.222948   \nmin        1.000000      1.000000   2019.000000   -8261.000000  -1918.000000   \n25%        8.000000      5.000000   2020.000000       0.000000      0.000000   \n50%       15.000000      7.000000   2020.000000      15.000000      0.000000   \n75%       23.000000     10.000000   2020.000000     273.000000      4.000000   \nmax       31.000000     12.000000   2020.000000  234633.000000   4928.000000   \n\n        popData2019  \ncount  6.190400e+04  \nmean   4.091909e+07  \nstd    1.529798e+08  \nmin    8.150000e+02  \n25%    1.324820e+06  \n50%    7.169456e+06  \n75%    2.851583e+07  \nmax    1.433784e+09  ",
      "text/html": "<div>\n<style scoped>\n    .dataframe tbody tr th:only-of-type {\n        vertical-align: middle;\n    }\n\n    .dataframe tbody tr th {\n        vertical-align: top;\n    }\n\n    .dataframe thead th {\n        text-align: right;\n    }\n</style>\n<table border=\"1\" class=\"dataframe\">\n  <thead>\n    <tr style=\"text-align: right;\">\n      <th></th>\n      <th>day</th>\n      <th>month</th>\n      <th>year</th>\n      <th>cases</th>\n      <th>deaths</th>\n      <th>popData2019</th>\n    </tr>\n  </thead>\n  <tbody>\n    <tr>\n      <th>count</th>\n      <td>61904.000000</td>\n      <td>61904.000000</td>\n      <td>61904.000000</td>\n      <td>61904.000000</td>\n      <td>61904.000000</td>\n      <td>6.190400e+04</td>\n    </tr>\n    <tr>\n      <th>mean</th>\n      <td>15.629232</td>\n      <td>7.067104</td>\n      <td>2019.998918</td>\n      <td>1155.079026</td>\n      <td>26.053987</td>\n      <td>4.091909e+07</td>\n    </tr>\n    <tr>\n      <th>std</th>\n      <td>8.841624</td>\n      <td>2.954816</td>\n      <td>0.032881</td>\n      <td>6779.010824</td>\n      <td>131.222948</td>\n      <td>1.529798e+08</td>\n    </tr>\n    <tr>\n      <th>min</th>\n      <td>1.000000</td>\n      <td>1.000000</td>\n      <td>2019.000000</td>\n      <td>-8261.000000</td>\n      <td>-1918.000000</td>\n      <td>8.150000e+02</td>\n    </tr>\n    <tr>\n      <th>25%</th>\n      <td>8.000000</td>\n      <td>5.000000</td>\n      <td>2020.000000</td>\n      <td>0.000000</td>\n      <td>0.000000</td>\n      <td>1.324820e+06</td>\n    </tr>\n    <tr>\n      <th>50%</th>\n      <td>15.000000</td>\n      <td>7.000000</td>\n      <td>2020.000000</td>\n      <td>15.000000</td>\n      <td>0.000000</td>\n      <td>7.169456e+06</td>\n    </tr>\n    <tr>\n      <th>75%</th>\n      <td>23.000000</td>\n      <td>10.000000</td>\n      <td>2020.000000</td>\n      <td>273.000000</td>\n      <td>4.000000</td>\n      <td>2.851583e+07</td>\n    </tr>\n    <tr>\n      <th>max</th>\n      <td>31.000000</td>\n      <td>12.000000</td>\n      <td>2020.000000</td>\n      <td>234633.000000</td>\n      <td>4928.000000</td>\n      <td>1.433784e+09</td>\n    </tr>\n  </tbody>\n</table>\n</div>"
     },
     "execution_count": 9,
     "metadata": {},
     "output_type": "execute_result"
    }
   ],
   "source": [
    "data.describe()"
   ]
  },
  {
   "cell_type": "markdown",
   "metadata": {},
   "source": [
    "Видно, что в днях, месяцах и годах нет выбросов, так как данные лежат в верных интервалах (от 1 до 31, от 1 до 12 и от 2019 до 2020 соответственно).\n",
    "\n",
    "Отрицательные случаи заражения можно интерпретировать как число выздоровевших людей от ковида, в то время как отрицательного числа смертей быть не может - люди не могли воскреснуть после смерти от ковида.\n",
    "\n",
    "Кажется, что данные о популяции соответствуют действительности."
   ]
  },
  {
   "cell_type": "markdown",
   "metadata": {},
   "source": [
    "Найдем такие записи, в которых смертность превышает 3000 человек:"
   ]
  },
  {
   "cell_type": "code",
   "execution_count": 10,
   "metadata": {},
   "outputs": [],
   "source": [
    "death_data = data[data['deaths'] > 3000]"
   ]
  },
  {
   "cell_type": "markdown",
   "metadata": {},
   "source": [
    "Найдем те страны, в которых число смертей превышало 3000 человек:"
   ]
  },
  {
   "cell_type": "code",
   "execution_count": 11,
   "metadata": {},
   "outputs": [
    {
     "data": {
      "text/plain": "array(['Argentina', 'Ecuador', 'Mexico', 'Peru',\n       'United_States_of_America'], dtype=object)"
     },
     "execution_count": 11,
     "metadata": {},
     "output_type": "execute_result"
    }
   ],
   "source": [
    "death_data[\"countriesAndTerritories\"].unique()"
   ]
  },
  {
   "cell_type": "markdown",
   "metadata": {},
   "source": [
    "Найдем количество дней, в которые смертность в одной из областей превышала 3000 человек:"
   ]
  },
  {
   "cell_type": "code",
   "execution_count": 12,
   "metadata": {},
   "outputs": [
    {
     "data": {
      "text/plain": "11"
     },
     "execution_count": 12,
     "metadata": {},
     "output_type": "execute_result"
    }
   ],
   "source": [
    "len(death_data[\"dateRep\"].unique())"
   ]
  },
  {
   "cell_type": "markdown",
   "metadata": {},
   "source": [
    "## Задание 4\n",
    "\n",
    "Найти дублирование данных. Удалить дубликаты."
   ]
  },
  {
   "cell_type": "markdown",
   "metadata": {},
   "source": [
    "Найдем число дубликатов в датасете:"
   ]
  },
  {
   "cell_type": "code",
   "execution_count": 13,
   "metadata": {},
   "outputs": [
    {
     "data": {
      "text/plain": "4"
     },
     "execution_count": 13,
     "metadata": {},
     "output_type": "execute_result"
    }
   ],
   "source": [
    "data.duplicated().sum()"
   ]
  },
  {
   "cell_type": "markdown",
   "metadata": {},
   "source": [
    "Удалим дубликаты из датасета:"
   ]
  },
  {
   "cell_type": "code",
   "execution_count": 14,
   "metadata": {},
   "outputs": [],
   "source": [
    "data = data.drop_duplicates()"
   ]
  },
  {
   "cell_type": "markdown",
   "metadata": {},
   "source": [
    "Еще раз проверим число дубликатов:"
   ]
  },
  {
   "cell_type": "code",
   "execution_count": 15,
   "metadata": {},
   "outputs": [
    {
     "data": {
      "text/plain": "0"
     },
     "execution_count": 15,
     "metadata": {},
     "output_type": "execute_result"
    }
   ],
   "source": [
    "data.duplicated().sum()"
   ]
  },
  {
   "cell_type": "markdown",
   "metadata": {},
   "source": [
    "## Задание 5\n",
    "\n",
    "Загрузить данные из файла `bmi.csv`.\n",
    "\n",
    "Взять оттуда две выборки. Одна выборка - это индекс массы тела людей c региона \"northwest\", вторая выборка - это индекс массы тела людей с региона \"southwest\".\n",
    "\n",
    "Сравнить средние значения этих выборок, используя t-критерий Стьюдента.\n",
    "Предварительно проверить выборки на нормальность (критерий Шопиро-Уилка) и на гомогенность дисперсии (критерий Бартлетта)."
   ]
  },
  {
   "cell_type": "markdown",
   "metadata": {},
   "source": [
    "Загрузим данные из файла `bmi.csv`:"
   ]
  },
  {
   "cell_type": "code",
   "execution_count": 16,
   "metadata": {},
   "outputs": [
    {
     "data": {
      "text/plain": "        bmi     region\n0    22.705  northwest\n1    28.880  northwest\n2    27.740  northwest\n3    25.840  northwest\n4    28.025  northwest\n..      ...        ...\n645  20.600  southwest\n646  38.600  southwest\n647  33.400  southwest\n648  44.700  southwest\n649  25.800  southwest\n\n[650 rows x 2 columns]",
      "text/html": "<div>\n<style scoped>\n    .dataframe tbody tr th:only-of-type {\n        vertical-align: middle;\n    }\n\n    .dataframe tbody tr th {\n        vertical-align: top;\n    }\n\n    .dataframe thead th {\n        text-align: right;\n    }\n</style>\n<table border=\"1\" class=\"dataframe\">\n  <thead>\n    <tr style=\"text-align: right;\">\n      <th></th>\n      <th>bmi</th>\n      <th>region</th>\n    </tr>\n  </thead>\n  <tbody>\n    <tr>\n      <th>0</th>\n      <td>22.705</td>\n      <td>northwest</td>\n    </tr>\n    <tr>\n      <th>1</th>\n      <td>28.880</td>\n      <td>northwest</td>\n    </tr>\n    <tr>\n      <th>2</th>\n      <td>27.740</td>\n      <td>northwest</td>\n    </tr>\n    <tr>\n      <th>3</th>\n      <td>25.840</td>\n      <td>northwest</td>\n    </tr>\n    <tr>\n      <th>4</th>\n      <td>28.025</td>\n      <td>northwest</td>\n    </tr>\n    <tr>\n      <th>...</th>\n      <td>...</td>\n      <td>...</td>\n    </tr>\n    <tr>\n      <th>645</th>\n      <td>20.600</td>\n      <td>southwest</td>\n    </tr>\n    <tr>\n      <th>646</th>\n      <td>38.600</td>\n      <td>southwest</td>\n    </tr>\n    <tr>\n      <th>647</th>\n      <td>33.400</td>\n      <td>southwest</td>\n    </tr>\n    <tr>\n      <th>648</th>\n      <td>44.700</td>\n      <td>southwest</td>\n    </tr>\n    <tr>\n      <th>649</th>\n      <td>25.800</td>\n      <td>southwest</td>\n    </tr>\n  </tbody>\n</table>\n<p>650 rows × 2 columns</p>\n</div>"
     },
     "execution_count": 16,
     "metadata": {},
     "output_type": "execute_result"
    }
   ],
   "source": [
    "data = pd.read_csv(\"bmi.csv\")\n",
    "data"
   ]
  },
  {
   "cell_type": "markdown",
   "metadata": {},
   "source": [
    "Создадим два датафрейма с двумя выборками по условию:"
   ]
  },
  {
   "cell_type": "code",
   "execution_count": 17,
   "metadata": {},
   "outputs": [],
   "source": [
    "north = data[data['region'] == 'northwest']\n",
    "south = data[data['region'] == 'southwest']"
   ]
  },
  {
   "cell_type": "markdown",
   "metadata": {},
   "source": [
    "Перед сравнением средних значений выборок с использованием t-критерия Стьюдента, проверим их на нормальность и на гомогенность дисперсии."
   ]
  },
  {
   "cell_type": "code",
   "execution_count": 18,
   "metadata": {},
   "outputs": [],
   "source": [
    "import scipy.stats as sts"
   ]
  },
  {
   "cell_type": "markdown",
   "metadata": {},
   "source": [
    "Проверим выборки на нормальность по критерию Шопиро-Уилка:"
   ]
  },
  {
   "cell_type": "code",
   "execution_count": 19,
   "metadata": {},
   "outputs": [
    {
     "data": {
      "text/plain": "ShapiroResult(statistic=0.9954646825790405, pvalue=0.4655335247516632)"
     },
     "execution_count": 19,
     "metadata": {},
     "output_type": "execute_result"
    }
   ],
   "source": [
    "sts.shapiro(north['bmi'])"
   ]
  },
  {
   "cell_type": "code",
   "execution_count": 20,
   "metadata": {},
   "outputs": [
    {
     "data": {
      "text/plain": "ShapiroResult(statistic=0.9949268698692322, pvalue=0.3629520535469055)"
     },
     "execution_count": 20,
     "metadata": {},
     "output_type": "execute_result"
    }
   ],
   "source": [
    "sts.shapiro(south['bmi'])"
   ]
  },
  {
   "cell_type": "markdown",
   "metadata": {},
   "source": [
    "В обоих случаях тест дает p-значение выше 0.05, следовательно, выборки имеют нормальное распределение."
   ]
  },
  {
   "cell_type": "markdown",
   "metadata": {},
   "source": [
    "Проверим выборки на гомогенность дисперсии по критерию Бартлетта:"
   ]
  },
  {
   "cell_type": "code",
   "execution_count": 21,
   "metadata": {},
   "outputs": [
    {
     "data": {
      "text/plain": "BartlettResult(statistic=3.4000745256459286, pvalue=0.06519347353581818)"
     },
     "execution_count": 21,
     "metadata": {},
     "output_type": "execute_result"
    }
   ],
   "source": [
    "sts.bartlett(north['bmi'], south['bmi'])"
   ]
  },
  {
   "cell_type": "markdown",
   "metadata": {},
   "source": [
    "Тест дает p-значение выше 0.05, следовательно, дисперсии выборок примерно одинаковы."
   ]
  },
  {
   "cell_type": "markdown",
   "metadata": {},
   "source": [
    "Сравним средние значения выборок, используя t-критерий Стьюдента:"
   ]
  },
  {
   "cell_type": "code",
   "execution_count": 22,
   "metadata": {},
   "outputs": [
    {
     "data": {
      "text/plain": "Ttest_indResult(statistic=-3.2844171500398582, pvalue=0.001076958496307695)"
     },
     "execution_count": 22,
     "metadata": {},
     "output_type": "execute_result"
    }
   ],
   "source": [
    "sts.ttest_ind(north['bmi'], south['bmi'])"
   ]
  },
  {
   "cell_type": "markdown",
   "metadata": {},
   "source": [
    "Тест дает p-значение ниже 0.05.\n",
    "Это говорит о том, что средние значения выборок отличаются и что выборки действительно принадлежат к разным генеральным совокупностям."
   ]
  },
  {
   "cell_type": "markdown",
   "metadata": {},
   "source": [
    "## Задание 6\n",
    "\n",
    "Кубик бросили 600 раз, получили следующие результаты:\n",
    "\n",
    "|  N  | Количество выпадений |\n",
    "|:---:|:--------------------:|\n",
    "|  1  |          97          |\n",
    "|  2  |          98          |\n",
    "|  3  |         109          |\n",
    "|  4  |          95          |\n",
    "|  5  |          97          |\n",
    "|  6  |         104          |\n",
    "\n",
    "С помощью критерия Хи-квадрат проверить, является ли полученное распределение равномерным.\n",
    "Использовать функцию `scipy.stats.chisquare()`."
   ]
  },
  {
   "cell_type": "markdown",
   "metadata": {},
   "source": [
    "Создадим датасет по условию задачи:"
   ]
  },
  {
   "cell_type": "code",
   "execution_count": 23,
   "metadata": {},
   "outputs": [
    {
     "data": {
      "text/plain": "   observed  expected\n1        97       100\n2        98       100\n3       109       100\n4        95       100\n5        97       100\n6       104       100",
      "text/html": "<div>\n<style scoped>\n    .dataframe tbody tr th:only-of-type {\n        vertical-align: middle;\n    }\n\n    .dataframe tbody tr th {\n        vertical-align: top;\n    }\n\n    .dataframe thead th {\n        text-align: right;\n    }\n</style>\n<table border=\"1\" class=\"dataframe\">\n  <thead>\n    <tr style=\"text-align: right;\">\n      <th></th>\n      <th>observed</th>\n      <th>expected</th>\n    </tr>\n  </thead>\n  <tbody>\n    <tr>\n      <th>1</th>\n      <td>97</td>\n      <td>100</td>\n    </tr>\n    <tr>\n      <th>2</th>\n      <td>98</td>\n      <td>100</td>\n    </tr>\n    <tr>\n      <th>3</th>\n      <td>109</td>\n      <td>100</td>\n    </tr>\n    <tr>\n      <th>4</th>\n      <td>95</td>\n      <td>100</td>\n    </tr>\n    <tr>\n      <th>5</th>\n      <td>97</td>\n      <td>100</td>\n    </tr>\n    <tr>\n      <th>6</th>\n      <td>104</td>\n      <td>100</td>\n    </tr>\n  </tbody>\n</table>\n</div>"
     },
     "execution_count": 23,
     "metadata": {},
     "output_type": "execute_result"
    }
   ],
   "source": [
    "data = pd.DataFrame(\n",
    "    data=dict(observed=[97, 98, 109, 95, 97, 104],\n",
    "              expected=[100] * 6),\n",
    "    index=[1, 2, 3, 4, 5, 6],\n",
    ")\n",
    "data"
   ]
  },
  {
   "cell_type": "markdown",
   "metadata": {},
   "source": [
    "Проверим, является ли полученное распределение равномерным с помощью критерия Хи-квадрат:"
   ]
  },
  {
   "cell_type": "code",
   "execution_count": 24,
   "metadata": {},
   "outputs": [
    {
     "data": {
      "text/plain": "Power_divergenceResult(statistic=1.44, pvalue=0.9198882077437889)"
     },
     "execution_count": 24,
     "metadata": {},
     "output_type": "execute_result"
    }
   ],
   "source": [
    "sts.chisquare(data['observed'], data['expected'])"
   ]
  },
  {
   "cell_type": "markdown",
   "metadata": {},
   "source": [
    "Тест дает p-значение выше 0.05.\n",
    "Исходя из этого мы видим, что полученное распределение является равномерным."
   ]
  },
  {
   "cell_type": "markdown",
   "metadata": {},
   "source": [
    "## Задание 7\n",
    "\n",
    "С помощью критерия Хи-квадрат проверить, являются ли переменные зависимыми.\n",
    "\n",
    "Создать датафрейм, используя следующий код:\n",
    "```python\n",
    "data = pd.DataFrame({\n",
    "    'Женат': [89, 17, 11, 43, 22, 1],\n",
    "    'Гражданский брак': [80, 22, 20, 35, 6, 4],\n",
    "    'Не состоит в отношениях': [35, 44, 35, 6, 8, 22],\n",
    "})\n",
    "data.index = [\n",
    "    'Полный рабочий день', 'Частичная занятость', 'Временно не работает',\n",
    "    'На домохозяйстве', 'На пенсии', 'Учёба',\n",
    "]\n",
    "```\n",
    "\n",
    "Использовать функцию `scipy.stats.chi2_contingency()`.\n",
    "\n",
    "Влияет ли семейное положение на занятость?"
   ]
  },
  {
   "cell_type": "markdown",
   "metadata": {},
   "source": [
    "Создадим датасет по условию задачи:"
   ]
  },
  {
   "cell_type": "code",
   "execution_count": 25,
   "metadata": {},
   "outputs": [
    {
     "data": {
      "text/plain": "                      Женат  Гражданский брак  Не состоит в отношениях\nПолный рабочий день      89                80                       35\nЧастичная занятость      17                22                       44\nВременно не работает     11                20                       35\nНа домохозяйстве         43                35                        6\nНа пенсии                22                 6                        8\nУчёба                     1                 4                       22",
      "text/html": "<div>\n<style scoped>\n    .dataframe tbody tr th:only-of-type {\n        vertical-align: middle;\n    }\n\n    .dataframe tbody tr th {\n        vertical-align: top;\n    }\n\n    .dataframe thead th {\n        text-align: right;\n    }\n</style>\n<table border=\"1\" class=\"dataframe\">\n  <thead>\n    <tr style=\"text-align: right;\">\n      <th></th>\n      <th>Женат</th>\n      <th>Гражданский брак</th>\n      <th>Не состоит в отношениях</th>\n    </tr>\n  </thead>\n  <tbody>\n    <tr>\n      <th>Полный рабочий день</th>\n      <td>89</td>\n      <td>80</td>\n      <td>35</td>\n    </tr>\n    <tr>\n      <th>Частичная занятость</th>\n      <td>17</td>\n      <td>22</td>\n      <td>44</td>\n    </tr>\n    <tr>\n      <th>Временно не работает</th>\n      <td>11</td>\n      <td>20</td>\n      <td>35</td>\n    </tr>\n    <tr>\n      <th>На домохозяйстве</th>\n      <td>43</td>\n      <td>35</td>\n      <td>6</td>\n    </tr>\n    <tr>\n      <th>На пенсии</th>\n      <td>22</td>\n      <td>6</td>\n      <td>8</td>\n    </tr>\n    <tr>\n      <th>Учёба</th>\n      <td>1</td>\n      <td>4</td>\n      <td>22</td>\n    </tr>\n  </tbody>\n</table>\n</div>"
     },
     "execution_count": 25,
     "metadata": {},
     "output_type": "execute_result"
    }
   ],
   "source": [
    "data = pd.DataFrame({\n",
    "    'Женат': [89, 17, 11, 43, 22, 1],\n",
    "    'Гражданский брак': [80, 22, 20, 35, 6, 4],\n",
    "    'Не состоит в отношениях': [35, 44, 35, 6, 8, 22],\n",
    "})\n",
    "data.index = [\n",
    "    'Полный рабочий день', 'Частичная занятость', 'Временно не работает',\n",
    "    'На домохозяйстве', 'На пенсии', 'Учёба',\n",
    "]\n",
    "data"
   ]
  },
  {
   "cell_type": "markdown",
   "metadata": {},
   "source": [
    "Проверим, являются ли переменные зависимыми друг от друга с помощью критерия Хи-квадрат:"
   ]
  },
  {
   "cell_type": "code",
   "execution_count": 26,
   "metadata": {},
   "outputs": [
    {
     "data": {
      "text/plain": "(122.29654948595365, 1.7291616900960234e-21, 10)"
     },
     "execution_count": 26,
     "metadata": {},
     "output_type": "execute_result"
    }
   ],
   "source": [
    "sts.chi2_contingency(data)[:3]"
   ]
  },
  {
   "cell_type": "markdown",
   "metadata": {},
   "source": [
    "Тест дает p-значение (2-е число в множестве) намного меньше 0.05.\n",
    "Это говорит о том, что переменные действительно зависят друг от друга.\n",
    "\n",
    "По полученным результатам мы можем сказать, что семейное положение действительно влияет на занятость."
   ]
  }
 ],
 "metadata": {
  "kernelspec": {
   "display_name": "Python 3 (ipykernel)",
   "language": "python",
   "name": "python3"
  },
  "language_info": {
   "codemirror_mode": {
    "name": "ipython",
    "version": 3
   },
   "file_extension": ".py",
   "mimetype": "text/x-python",
   "name": "python",
   "nbconvert_exporter": "python",
   "pygments_lexer": "ipython3",
   "version": "3.10.7"
  }
 },
 "nbformat": 4,
 "nbformat_minor": 1
}
